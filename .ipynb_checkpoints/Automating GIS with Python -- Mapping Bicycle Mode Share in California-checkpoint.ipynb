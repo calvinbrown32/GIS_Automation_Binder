{
 "cells": [
  {
   "cell_type": "markdown",
   "metadata": {},
   "source": [
    "# Automating GIS with Python\n",
    "## Mapping commute to work mode choice by census tract in California\n",
    "#### This notebook walks viewers through a simple Python script that 1. Downloads census commute to work mode choice data, 2. Cleans the downloaded census data and joins it to census cartographic boundary census tract spatial data, and 3. Creates a Folium choropleth map showing the commute to work mode share by census tract for user elected California counties. Press **SHIFT + ENTER**  \n",
    "<br> \n",
    "#### Steps:\n",
    "1. Choose the counties that you would like to study. The script defaults to pulling data for Sacramento, Yolo, Sutter, and Yuba County census tracts.\n",
    "2. Import the required libraries and download commute to work mode share data from the Census data API.\n",
    "3. Clean the data and join it with Census Cartographic Boundary Census Tract Spatial Data.\n",
    "4. Create a map of the bicycle mode share within the chosen study counties using Folium and render the map.\n"
   ]
  },
  {
   "cell_type": "markdown",
   "metadata": {},
   "source": [
    "## Step I: Choose the counties that you would like to include in the \n",
    "---\n",
    "What county or counties would you like to analyze? \n",
    "Enter the name or names of the counties in the following cell, maintaining the proper format described below.\n",
    "Notice that each county listed should be enclosed in single quotes, separated by commas,\n",
    "written in title case, and include the word 'County'. Enter the counties between the double brackets.\n",
    "The commas used to separate the county names must fall **outside** of the quotations. Example:\n",
    "```study_counties = ['Sacramento County', 'Yolo County', 'Sutter County', 'Yuba County']```\n",
    "---\n"
   ]
  },
  {
   "cell_type": "code",
   "execution_count": 8,
   "metadata": {},
   "outputs": [],
   "source": [
    "study_counties = ['Marin County', 'San Francisco County', 'Alameda County', 'San Mateo County']"
   ]
  },
  {
   "cell_type": "markdown",
   "metadata": {},
   "source": [
    "### Once you have entered the counties you would like to analyze, press **SHIFT + ENTER** to execute each cell \n",
    "When you hit **SHIFT + ENTER**, the selected cell will run. If it runs properly the 'run order' number will appear in the brackets to the left of the cell. If there is an error, the code will not execute, and an error message will appear below the cell. \n",
    "\n",
    "Now that you have chosen the counties you would like to analyze, it is time to run the code! The code is broken down into appropriate sections for review and discussion.\n",
    "<br><br>\n",
    "\n",
    "## Step II: Import the required libraries and download commute to work mode share data from the Census data API"
   ]
  },
  {
   "cell_type": "code",
   "execution_count": 10,
   "metadata": {},
   "outputs": [],
   "source": [
    "#import required libraries\n",
    "\n",
    "import requests\n",
    "import pandas as pd\n",
    "import geopandas as gpd\n",
    "import numpy as np\n",
    "import geojson\n",
    "import folium\n",
    "import os\n",
    "\n",
    "#Set up the variables used to build a call url to the the census api website\n",
    "\n",
    "HOST = \"https://api.census.gov/data\"\n",
    "year = \"2018\"\n",
    "#dataset = \"acs/acs5/subject\"\n",
    "dataset = \"acs/acs5\"\n",
    "api_key = \"f9e79198302081250c07d556f35d8a81cdae528a\"\n",
    "base_url = \"/\".join([HOST, year, dataset,])\n",
    "\n",
    "#These 'predicates' help build the more complex query to the query. \n",
    "#Notice that the variables (columns) are specified here, the column names for our new dataframe\n",
    "#are also created here. The predicate dictionary keys are then assigned values, which will be passed\n",
    "#into the request.get function. \n",
    "\n",
    "#Setting up request for Table B08006: Sex of Workers by Means of Transportation to Work\n",
    "\n",
    "predicates_transpo_mode = {}\n",
    "get_vars_transpo_mode = [\"NAME\",\"B08006_001E\",\"B08006_002E\",\"B08006_003E\", \"B08006_004E\",\n",
    "                         \"B08006_008E\",\"B08006_014E\",\"B08006_015E\",\"B08006_016E\", \n",
    "                         \"B08006_017E\", \"GEO_ID\"\n",
    "                        ]\n",
    "col_names_transpo_mode = [\"place_name\", \"total\",\"total_car_truck_van\",\n",
    "                          \"car_truck_van_drove_alone\",\"car_truck_van_carpooled\",\n",
    "                          \"public_transportation\", \"bike\", \"walk\", \"taxi_moto_other\",\n",
    "                          \"work_from_home\",\"geoid\",\"state_code\", \"county\", \"tract\"\n",
    "                         ]\n",
    "predicates_transpo_mode[\"key\"] = api_key\n",
    "predicates_transpo_mode[\"get\"] = \",\".join(get_vars_transpo_mode)\n",
    "predicates_transpo_mode[\"for\"] = \"tract:*\"\n",
    "predicates_transpo_mode[\"in\"] = \"state:06\"\n",
    "transpo_mode = requests.get(base_url, params=predicates_transpo_mode)\n",
    "\n"
   ]
  },
  {
   "cell_type": "markdown",
   "metadata": {},
   "source": [
    "## Step III: Clean the data and join it with Census Cartographic Boundary Census Tract Spatial Data"
   ]
  },
  {
   "cell_type": "code",
   "execution_count": 24,
   "metadata": {},
   "outputs": [
    {
     "name": "stdout",
     "output_type": "stream",
     "text": [
      "/Users/calvindechicago\n",
      "\n",
      "[37.714, -122.247]\n"
     ]
    }
   ],
   "source": [
    "#Setting up Means of Transportation to Workdata frame, getting rid of first header row\n",
    "df_transpo_mode = pd.DataFrame(columns=col_names_transpo_mode, data=transpo_mode.json()[1:])\n",
    "\n",
    "# Now we join the census data to Tigerline census tract geometries. \n",
    "\n",
    "#A shapefile containing all census tracts in California \n",
    "#has been manually pulled from the census ftp site, unzipped, and saved to a folder\n",
    "#Census Tract Tigerline California Census Tracts location (ftp url included in notes below)\n",
    "\n",
    "#for personal_laptop\n",
    "#census_tracts_shp = \"/Users/calvindechicago/PycharmProjects/AltaWork/automated_census_mapping/cb_2018_06_tract_500k/projected/cb_2018_06_tract_500k_wgs.shp\"\n",
    "\n",
    "#for jupyter_binder : See: https://discourse.jupyter.org/t/what-is-with-the-weird-jovyan-user/1673\n",
    "census_tracts_shp = \"/home/jovyan/data/cb_2018_06_tract_500k_wgs.shp\"\n",
    "\n",
    "#I had trouble finding the file path from the Binder environment, so these lines are for troubleshooting:\n",
    "\n",
    "#print current working directory\n",
    "print(os.getcwd() + \"\\n\")\n",
    "\n",
    "#print whether or not a given directory exists\n",
    "os.path.exists(census_tracts_shp)\n",
    "\n",
    "#This reads the census tracts shapefile into a geodataframe\n",
    "gdf = gpd.read_file(census_tracts_shp)\n",
    "\n",
    "#the column names are all caps. We want to make them lowercase. This maps the lower function to the column names\n",
    "gdf.columns = map(str.lower, gdf.columns)\n",
    "\n",
    "#The geoid field in the df_transpo_mode table does not match the Tigerlines geoid field. \n",
    "#This slices the the right 11 most digits, which match the geoid codes in the TigerLine file. \n",
    "#(... these are state ('06') for California, followed by county, followed by census tract)\n",
    "df_transpo_mode.insert(14, \"geoid_join\",df_transpo_mode['geoid'].str.slice(-11), True) \n",
    "\n",
    "#split the place_name to get human known county names\n",
    "#str.split splits on comma  (',') delimiter. .str[1] selects the second element in the list (the county name) \n",
    "df_transpo_mode.insert(1, \"county_name\",df_transpo_mode['place_name'].str.split(',').str[1].str.strip(), True)\n",
    "\n",
    "#this uses study_counties variable created by user in beginning of notebook!\n",
    "tracts_select_counties = df_transpo_mode.loc[df_transpo_mode['county_name'].isin(study_counties)]\n",
    "\n",
    "#JOIN the transpo_mode table with the tigerline table \n",
    "#Note:gdf must be left table, the table that merge method is run on, so that a geodataframe (not a dataframe)\n",
    "#is returned. \n",
    "df_transpo_mode_with_geom = gdf.merge(tracts_select_counties,left_on='geoid',right_on='geoid_join')\n",
    "\n",
    "\n",
    "#Change data types of columns that will be used for analysis.\n",
    "df_transpo_mode_with_geom['bike'] = df_transpo_mode_with_geom['bike'].astype(int)\n",
    "df_transpo_mode_with_geom['total'] = df_transpo_mode_with_geom['total'].astype(int)\n",
    "\n",
    "# Create a Geo-id which is needed by the Folium (it needs to have a unique identifier for each row)\n",
    "# We do not want the GeoJson object created earlier. Use original df_transpo_mode_with_geom data.\n",
    "#census_tracts_gjson = folium.features.GeoJson(df_transpo_mode_with_geom, name=\"census tracts\")\n",
    "df_transpo_mode_with_geom['geoid'] = df_transpo_mode_with_geom.index.astype(str)\n",
    "\n",
    "#calculate percentage of people that bike to work in each tract\n",
    "a = ((df_transpo_mode_with_geom['bike'] / df_transpo_mode_with_geom['total'])*100).round(1)\n",
    "\n",
    "#insert new column with calculated percentage of bike riders in each census tract\n",
    "df_transpo_mode_with_geom.insert(2,'pct_bike',a, True)\n",
    "\n",
    "# Select only needed columns\n",
    "choropleth_data = df_transpo_mode_with_geom[['geoid', 'tract','bike', 'pct_bike', 'geometry']]\n",
    "\n",
    "# Convert to geojson (not needed for the simple coropleth map!)\n",
    "#pop_json = data.to_json()\n",
    "\n",
    "#check data\n",
    "choropleth_data.head()\n",
    "\n",
    "#This gives a warning and I'm not sure if indexing the geoid column affects functionality, \n",
    "#so I am commenting this line out for now. \n",
    "#choropleth_data['geoid'] = choropleth_data.index.astype(str)\n",
    "\n",
    "\n",
    "#This finds the total bounds of the selected counties, and creates a variable with the centroid,\n",
    "#which will be used to locate and center the selection within the map frame. \n",
    "bounds = df_transpo_mode_with_geom.total_bounds\n",
    "a = np.mean(bounds[0:3:2]).round(3)\n",
    "b = np.mean(bounds[1:4:2]).round(3)\n",
    "data_centroid = [b,a]\n",
    "print(data_centroid)\n"
   ]
  },
  {
   "cell_type": "markdown",
   "metadata": {},
   "source": [
    "# STEP IV: Create the map using Folium and render the map"
   ]
  },
  {
   "cell_type": "code",
   "execution_count": 41,
   "metadata": {},
   "outputs": [
    {
     "data": {
      "text/plain": [
       "<folium.features.GeoJson at 0x7f8f7c935110>"
      ]
     },
     "execution_count": 41,
     "metadata": {},
     "output_type": "execute_result"
    }
   ],
   "source": [
    "# Create a Map instance\n",
    "m = folium.Map(location=data_centroid, tiles = 'cartodbpositron', zoom_start=9, control_scale=True)\n",
    "\n",
    "#Plot a choropleth map\n",
    "#Notice: 'geoid' column that we created earlier needs to be assigned always as the first column\n",
    "folium.Choropleth(\n",
    "    geo_data=choropleth_data,\n",
    "    name='Percentage of Cyclists',\n",
    "    data=choropleth_data,\n",
    "    columns=['geoid', 'pct_bike'],\n",
    "    key_on='feature.id',\n",
    "    fill_color='YlOrRd',\n",
    "    fill_opacity=0.7,\n",
    "    line_opacity=0.2,\n",
    "    line_color='black',\n",
    "    line_weight=.5,\n",
    "    nan_fill_color='black',\n",
    "    nan_fill_opacity=0.4,\n",
    "    highlight=False,\n",
    "    smooth_factor=1.0,\n",
    "    bins=[0, 3, 6, 9, 12, 30],\n",
    "    legend_name= 'Percentage of workers that bike to work').add_to(m)\n",
    "\n",
    "# Convert points to GeoJson\n",
    "# This creates interactive labels\n",
    "folium.features.GeoJson(choropleth_data,\n",
    "                        name='Labels',\n",
    "                        style_function=lambda x: {'color':'transparent','fillColor':'transparent','weight':0},\n",
    "                        tooltip=folium.features.GeoJsonTooltip(fields=[ 'tract','pct_bike'],\n",
    "                                                                aliases = ['Census Tract:', 'Percent that ride a bike to work:'],\n",
    "                                                                labels=True,\n",
    "                                                                sticky=False\n",
    "                                                                            )\n",
    "                       ).add_to(m)\n",
    "\n",
    "#Show map\n",
    "print('Please wait for the map to load ...')\n",
    "m"
   ]
  },
  {
   "cell_type": "markdown",
   "metadata": {},
   "source": [
    "### Once you run the #Show map cell above, please wait for the map to load. \n",
    "Below are a list of sources and other notes that I kept as I wrote this script. \n",
    "Not shown are hundreds of lines of troubleshooting and test code. "
   ]
  }
 ],
 "metadata": {
  "kernelspec": {
   "display_name": "Python 3",
   "language": "python",
   "name": "python3"
  },
  "language_info": {
   "codemirror_mode": {
    "name": "ipython",
    "version": 3
   },
   "file_extension": ".py",
   "mimetype": "text/x-python",
   "name": "python",
   "nbconvert_exporter": "python",
   "pygments_lexer": "ipython3",
   "version": "3.7.6"
  }
 },
 "nbformat": 4,
 "nbformat_minor": 4
}
