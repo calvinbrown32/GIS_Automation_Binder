{
 "cells": [
  {
   "cell_type": "code",
   "execution_count": 10,
   "metadata": {},
   "outputs": [],
   "source": [
    "#import necessary libraries\n",
    "\n",
    "import requests\n",
    "import pandas as pd\n",
    "import geopandas as gpd\n",
    "import numpy as np\n",
    "import geojson\n",
    "import folium\n",
    "import os\n",
    "\n"
   ]
  },
  {
   "cell_type": "code",
   "execution_count": 2,
   "metadata": {},
   "outputs": [],
   "source": [
    "#These are all of the main variables used to build a call url to the the census api website\n",
    "\n",
    "HOST = \"https://api.census.gov/data\"\n",
    "year = \"2018\"\n",
    "#dataset = \"acs/acs5/subject\"\n",
    "dataset = \"acs/acs5\"\n",
    "api_key = \"f9e79198302081250c07d556f35d8a81cdae528a\"\n",
    "base_url = \"/\".join([HOST, year, dataset,])"
   ]
  },
  {
   "cell_type": "code",
   "execution_count": 3,
   "metadata": {},
   "outputs": [],
   "source": [
    "#These 'predicates' help build the more complex query to the query. \n",
    "#Notice that the variables (columns) are specified here, the column names for our new dataframe\n",
    "#are also created here. The predicate dictionary keys are then assigned values, which will be passed\n",
    "#into the request.get function. "
   ]
  },
  {
   "cell_type": "code",
   "execution_count": 4,
   "metadata": {},
   "outputs": [],
   "source": [
    "# ###Setting up request for Table B08006: Sex of Workers by Means of Transportation to Work\n",
    "predicates_transpo_mode = {}\n",
    "get_vars_transpo_mode = [\"NAME\",\"B08006_001E\",\"B08006_002E\",\"B08006_003E\", \"B08006_004E\",\n",
    "                         \"B08006_008E\",\"B08006_014E\",\"B08006_015E\",\"B08006_016E\", \n",
    "                         \"B08006_017E\", \"GEO_ID\"\n",
    "                        ]\n",
    "col_names_transpo_mode = [\"place_name\", \"total\",\"total_car_truck_van\",\n",
    "                          \"car_truck_van_drove_alone\",\"car_truck_van_carpooled\",\n",
    "                          \"public_transportation\", \"bike\", \"walk\", \"taxi_moto_other\",\n",
    "                          \"work_from_home\",\"geoid\",\"state_code\", \"county\", \"tract\"\n",
    "                         ]\n",
    "predicates_transpo_mode[\"key\"] = api_key\n",
    "predicates_transpo_mode[\"get\"] = \",\".join(get_vars_transpo_mode)\n",
    "predicates_transpo_mode[\"for\"] = \"tract:*\"\n",
    "predicates_transpo_mode[\"in\"] = \"state:06\"\n",
    "transpo_mode = requests.get(base_url, params=predicates_transpo_mode)"
   ]
  },
  {
   "cell_type": "code",
   "execution_count": 5,
   "metadata": {},
   "outputs": [],
   "source": [
    "#Setting up Means of Transportation to Workdata frame, getting rid of first header row\n",
    "df_transpo_mode = pd.DataFrame(columns=col_names_transpo_mode, data=transpo_mode.json()[1:])"
   ]
  },
  {
   "cell_type": "code",
   "execution_count": 6,
   "metadata": {},
   "outputs": [],
   "source": [
    "# ###Now we join the census data to Tigerline census tract geometries. "
   ]
  },
  {
   "cell_type": "code",
   "execution_count": 37,
   "metadata": {},
   "outputs": [],
   "source": [
    "#A shapefile containing all census tracts in California \n",
    "#has been manually pulled from the census ftp site, unzipped, and saved to a folder\n",
    "#Census Tract Tigerline California Census Tracts location (ftp url included in notes below)\n",
    "\n",
    "#for personal_laptop\n",
    "#census_tracts_shp = \"../../Users/calvindechicago/PycharmProjects/AltaWork/automated_census_mapping/tl_2018_06_tract/tl_2018_06_tract.shp\"\n",
    "\n",
    "#for jupyter_binder : See: https://discourse.jupyter.org/t/what-is-with-the-weird-jovyan-user/1673\n",
    "census_tracts_shp = \"/home/jovyan/data/tl_2018_06_simplified.shp\""
   ]
  },
  {
   "cell_type": "code",
   "execution_count": 38,
   "metadata": {},
   "outputs": [
    {
     "name": "stdout",
     "output_type": "stream",
     "text": [
      "/Users/calvindechicago\n",
      "\n"
     ]
    }
   ],
   "source": [
    "print(os.getcwd() + \"\\n\")"
   ]
  },
  {
   "cell_type": "code",
   "execution_count": 39,
   "metadata": {},
   "outputs": [
    {
     "data": {
      "text/plain": [
       "False"
      ]
     },
     "execution_count": 39,
     "metadata": {},
     "output_type": "execute_result"
    }
   ],
   "source": [
    "os.path.exists(census_tracts_shp)"
   ]
  },
  {
   "cell_type": "code",
   "execution_count": 14,
   "metadata": {},
   "outputs": [],
   "source": [
    "#This reads the census tracts shapefile into a geodataframe\n",
    "gdf = gpd.read_file(census_tracts_shp)"
   ]
  },
  {
   "cell_type": "code",
   "execution_count": 15,
   "metadata": {},
   "outputs": [],
   "source": [
    "#the column names are all caps. We want to make them lowercase. This maps the lower function to the column names\n",
    "gdf.columns = map(str.lower, gdf.columns)\n"
   ]
  },
  {
   "cell_type": "code",
   "execution_count": 16,
   "metadata": {},
   "outputs": [],
   "source": [
    "#The geoid field in the df_transpo_mode table does not match the Tigerlines geoid field. \n",
    "#This slices the the right 11 most digits, which match the geoid codes in the TigerLine file. \n",
    "#(... these are state ('06') for California, followed by county, followed by census tract)\n",
    "df_transpo_mode.insert(14, \"geoid_join\",df_transpo_mode['geoid'].str.slice(-11), True) "
   ]
  },
  {
   "cell_type": "code",
   "execution_count": 17,
   "metadata": {},
   "outputs": [],
   "source": [
    "#split the place_name to get human known county names\n",
    "#str.split splits on comma  (',') delimiter. .str[1] selects the second element in the list (the county name) \n",
    "df_transpo_mode.insert(1, \"county_name\",df_transpo_mode['place_name'].str.split(',').str[1].str.strip(), True)"
   ]
  },
  {
   "cell_type": "code",
   "execution_count": 18,
   "metadata": {},
   "outputs": [],
   "source": [
    "\n",
    "study_counties = ['Los Angeles County']\n",
    "tracts_select_counties = df_transpo_mode.loc[df_transpo_mode['county_name'].isin(study_counties)]"
   ]
  },
  {
   "cell_type": "code",
   "execution_count": 19,
   "metadata": {},
   "outputs": [],
   "source": [
    "#JOIN the transpo_mode table with the tigerline table \n",
    "#Note:gdf must be left table, the table that merge method is run on, so that a geodataframe (not a dataframe)\n",
    "#is returned. \n",
    "df_transpo_mode_with_geom = gdf.merge(tracts_select_counties,left_on='geoid',right_on='geoid_join')"
   ]
  },
  {
   "cell_type": "code",
   "execution_count": 20,
   "metadata": {},
   "outputs": [],
   "source": [
    "df_transpo_mode_with_geom['bike'] = df_transpo_mode_with_geom['bike'].astype(int)"
   ]
  },
  {
   "cell_type": "code",
   "execution_count": 21,
   "metadata": {},
   "outputs": [],
   "source": [
    "df_transpo_mode_with_geom['total'] = df_transpo_mode_with_geom['total'].astype(int)"
   ]
  },
  {
   "cell_type": "code",
   "execution_count": 22,
   "metadata": {},
   "outputs": [],
   "source": [
    "# Create a Geo-id which is needed by the Folium (it needs to have a unique identifier for each row)\n",
    "# We do not want the GeoJson object created earlier. Use original df_transpo_mode_with_geom data.\n",
    "#census_tracts_gjson = folium.features.GeoJson(df_transpo_mode_with_geom, name=\"census tracts\")\n",
    "df_transpo_mode_with_geom['geoid'] = df_transpo_mode_with_geom.index.astype(str)\n",
    "\n"
   ]
  },
  {
   "cell_type": "code",
   "execution_count": 23,
   "metadata": {},
   "outputs": [],
   "source": [
    "#calculate percentage of people that bike to work in each tract\n",
    "a = (df_transpo_mode_with_geom['bike'] / df_transpo_mode_with_geom['total'])*100"
   ]
  },
  {
   "cell_type": "code",
   "execution_count": 24,
   "metadata": {},
   "outputs": [],
   "source": [
    "df_transpo_mode_with_geom.insert(2,'pct_bike',a, True)"
   ]
  },
  {
   "cell_type": "code",
   "execution_count": 25,
   "metadata": {},
   "outputs": [
    {
     "data": {
      "text/html": [
       "<div>\n",
       "<style scoped>\n",
       "    .dataframe tbody tr th:only-of-type {\n",
       "        vertical-align: middle;\n",
       "    }\n",
       "\n",
       "    .dataframe tbody tr th {\n",
       "        vertical-align: top;\n",
       "    }\n",
       "\n",
       "    .dataframe thead th {\n",
       "        text-align: right;\n",
       "    }\n",
       "</style>\n",
       "<table border=\"1\" class=\"dataframe\">\n",
       "  <thead>\n",
       "    <tr style=\"text-align: right;\">\n",
       "      <th></th>\n",
       "      <th>geoid</th>\n",
       "      <th>bike</th>\n",
       "      <th>pct_bike</th>\n",
       "      <th>geometry</th>\n",
       "    </tr>\n",
       "  </thead>\n",
       "  <tbody>\n",
       "    <tr>\n",
       "      <th>0</th>\n",
       "      <td>0</td>\n",
       "      <td>0</td>\n",
       "      <td>0.000000</td>\n",
       "      <td>POLYGON ((-118.58119 34.14318, -118.58099 34.1...</td>\n",
       "    </tr>\n",
       "    <tr>\n",
       "      <th>1</th>\n",
       "      <td>1</td>\n",
       "      <td>0</td>\n",
       "      <td>0.000000</td>\n",
       "      <td>POLYGON ((-118.60573 34.14585, -118.60561 34.1...</td>\n",
       "    </tr>\n",
       "    <tr>\n",
       "      <th>2</th>\n",
       "      <td>2</td>\n",
       "      <td>0</td>\n",
       "      <td>0.000000</td>\n",
       "      <td>POLYGON ((-118.53082 34.18024, -118.52952 34.1...</td>\n",
       "    </tr>\n",
       "    <tr>\n",
       "      <th>3</th>\n",
       "      <td>3</td>\n",
       "      <td>93</td>\n",
       "      <td>3.497555</td>\n",
       "      <td>POLYGON ((-118.37899 34.15409, -118.37888 34.1...</td>\n",
       "    </tr>\n",
       "    <tr>\n",
       "      <th>4</th>\n",
       "      <td>4</td>\n",
       "      <td>51</td>\n",
       "      <td>1.373922</td>\n",
       "      <td>POLYGON ((-118.39648 34.15761, -118.39538 34.1...</td>\n",
       "    </tr>\n",
       "  </tbody>\n",
       "</table>\n",
       "</div>"
      ],
      "text/plain": [
       "  geoid  bike  pct_bike                                           geometry\n",
       "0     0     0  0.000000  POLYGON ((-118.58119 34.14318, -118.58099 34.1...\n",
       "1     1     0  0.000000  POLYGON ((-118.60573 34.14585, -118.60561 34.1...\n",
       "2     2     0  0.000000  POLYGON ((-118.53082 34.18024, -118.52952 34.1...\n",
       "3     3    93  3.497555  POLYGON ((-118.37899 34.15409, -118.37888 34.1...\n",
       "4     4    51  1.373922  POLYGON ((-118.39648 34.15761, -118.39538 34.1..."
      ]
     },
     "execution_count": 25,
     "metadata": {},
     "output_type": "execute_result"
    }
   ],
   "source": [
    "# Select only needed columns\n",
    "choropleth_data = df_transpo_mode_with_geom[['geoid', 'bike', 'pct_bike', 'geometry']]\n",
    "\n",
    "# Convert to geojson (not needed for the simple coropleth map!)\n",
    "#pop_json = data.to_json()\n",
    "\n",
    "#check data\n",
    "choropleth_data.head()"
   ]
  },
  {
   "cell_type": "code",
   "execution_count": 26,
   "metadata": {},
   "outputs": [
    {
     "name": "stderr",
     "output_type": "stream",
     "text": [
      "/Users/calvindechicago/anaconda3/envs/census-gis/lib/python3.7/site-packages/ipykernel_launcher.py:1: SettingWithCopyWarning: \n",
      "A value is trying to be set on a copy of a slice from a DataFrame.\n",
      "Try using .loc[row_indexer,col_indexer] = value instead\n",
      "\n",
      "See the caveats in the documentation: https://pandas.pydata.org/pandas-docs/stable/user_guide/indexing.html#returning-a-view-versus-a-copy\n",
      "  \"\"\"Entry point for launching an IPython kernel.\n"
     ]
    }
   ],
   "source": [
    "choropleth_data['geoid'] = choropleth_data.index.astype(str)\n"
   ]
  },
  {
   "cell_type": "code",
   "execution_count": 27,
   "metadata": {},
   "outputs": [
    {
     "name": "stdout",
     "output_type": "stream",
     "text": [
      "[33.787, -118.299]\n"
     ]
    }
   ],
   "source": [
    "bounds = df_transpo_mode_with_geom.total_bounds\n",
    "a = np.mean(bounds[0:3:2]).round(3)\n",
    "b = np.mean(bounds[1:4:2]).round(3)\n",
    "data_centroid = [b,a]\n",
    "print(data_centroid)"
   ]
  },
  {
   "cell_type": "code",
   "execution_count": 33,
   "metadata": {},
   "outputs": [
    {
     "ename": "ValueError",
     "evalue": "All values are expected to fall into one of the provided bins (or to be Nan). Please check the `bins` parameter and/or your data.",
     "output_type": "error",
     "traceback": [
      "\u001b[0;31m---------------------------------------------------------------------------\u001b[0m",
      "\u001b[0;31mValueError\u001b[0m                                Traceback (most recent call last)",
      "\u001b[0;32m<ipython-input-33-c3c8fbfddd21>\u001b[0m in \u001b[0;36m<module>\u001b[0;34m\u001b[0m\n\u001b[1;32m     18\u001b[0m     \u001b[0msmooth_factor\u001b[0m\u001b[0;34m=\u001b[0m\u001b[0;36m1.0\u001b[0m\u001b[0;34m,\u001b[0m\u001b[0;34m\u001b[0m\u001b[0;34m\u001b[0m\u001b[0m\n\u001b[1;32m     19\u001b[0m     \u001b[0mthreshold_scale\u001b[0m\u001b[0;34m=\u001b[0m\u001b[0;34m[\u001b[0m\u001b[0;36m1\u001b[0m\u001b[0;34m,\u001b[0m \u001b[0;36m2\u001b[0m\u001b[0;34m,\u001b[0m \u001b[0;36m3\u001b[0m\u001b[0;34m,\u001b[0m \u001b[0;36m4\u001b[0m\u001b[0;34m,\u001b[0m \u001b[0;36m5\u001b[0m\u001b[0;34m]\u001b[0m\u001b[0;34m,\u001b[0m\u001b[0;34m\u001b[0m\u001b[0;34m\u001b[0m\u001b[0m\n\u001b[0;32m---> 20\u001b[0;31m     legend_name= 'Percentage of workers that bike to work').add_to(m)\n\u001b[0m",
      "\u001b[0;32m~/anaconda3/envs/census-gis/lib/python3.7/site-packages/folium/features.py\u001b[0m in \u001b[0;36m__init__\u001b[0;34m(self, geo_data, data, columns, key_on, bins, fill_color, nan_fill_color, fill_opacity, nan_fill_opacity, line_color, line_weight, line_opacity, name, legend_name, overlay, control, show, topojson, smooth_factor, highlight, **kwargs)\u001b[0m\n\u001b[1;32m   1082\u001b[0m             \u001b[0;32mif\u001b[0m \u001b[0mnp\u001b[0m\u001b[0;34m.\u001b[0m\u001b[0many\u001b[0m\u001b[0;34m(\u001b[0m\u001b[0;34m(\u001b[0m\u001b[0mreal_values\u001b[0m \u001b[0;34m<\u001b[0m \u001b[0mbins_min\u001b[0m\u001b[0;34m)\u001b[0m \u001b[0;34m|\u001b[0m \u001b[0;34m(\u001b[0m\u001b[0mreal_values\u001b[0m \u001b[0;34m>\u001b[0m \u001b[0mbins_max\u001b[0m\u001b[0;34m)\u001b[0m\u001b[0;34m)\u001b[0m\u001b[0;34m:\u001b[0m\u001b[0;34m\u001b[0m\u001b[0;34m\u001b[0m\u001b[0m\n\u001b[1;32m   1083\u001b[0m                 raise ValueError(\n\u001b[0;32m-> 1084\u001b[0;31m                     \u001b[0;34m'All values are expected to fall into one of the provided '\u001b[0m\u001b[0;34m\u001b[0m\u001b[0;34m\u001b[0m\u001b[0m\n\u001b[0m\u001b[1;32m   1085\u001b[0m                     \u001b[0;34m'bins (or to be Nan). Please check the `bins` parameter '\u001b[0m\u001b[0;34m\u001b[0m\u001b[0;34m\u001b[0m\u001b[0m\n\u001b[1;32m   1086\u001b[0m                     'and/or your data.')\n",
      "\u001b[0;31mValueError\u001b[0m: All values are expected to fall into one of the provided bins (or to be Nan). Please check the `bins` parameter and/or your data."
     ]
    }
   ],
   "source": [
    "# Create a Map instance\n",
    "m = folium.Map(location=data_centroid, tiles = 'cartodbpositron', zoom_start=10, control_scale=True)\n",
    "\n",
    "#Plot a choropleth map\n",
    "#Notice: 'geoid' column that we created earlier needs to be assigned always as the first column\n",
    "folium.Choropleth(\n",
    "    geo_data=choropleth_data,\n",
    "    name='Percentage of Cyclists',\n",
    "    data=choropleth_data,\n",
    "    columns=['geoid', 'pct_bike'],\n",
    "    key_on='feature.id',\n",
    "    fill_color='YlOrRd',\n",
    "    fill_opacity=0.7,\n",
    "    line_opacity=0.2,\n",
    "    line_color='white',\n",
    "    line_weight=0,\n",
    "    highlight=False,\n",
    "    smooth_factor=1.0,\n",
    "    #threshold_scale=[1, 2, 3, 4, 5],\n",
    "    legend_name= 'Percentage of workers that bike to work').add_to(m)"
   ]
  },
  {
   "cell_type": "code",
   "execution_count": 29,
   "metadata": {},
   "outputs": [
    {
     "data": {
      "text/plain": [
       "<folium.features.GeoJson at 0x7faabfb4ae90>"
      ]
     },
     "execution_count": 29,
     "metadata": {},
     "output_type": "execute_result"
    }
   ],
   "source": [
    "# Convert points to GeoJson\n",
    "# This creates interactive labels\n",
    "folium.features.GeoJson(choropleth_data,\n",
    "                        name='Labels',\n",
    "                        style_function=lambda x: {'color':'transparent','fillColor':'transparent','weight':0},\n",
    "                        tooltip=folium.features.GeoJsonTooltip(fields=['pct_bike'],\n",
    "                                                               # aliases = ['Population'],\n",
    "                                                                labels=True,\n",
    "                                                                sticky=False\n",
    "                                                                            )\n",
    "                       ).add_to(m)\n"
   ]
  },
  {
   "cell_type": "code",
   "execution_count": 31,
   "metadata": {},
   "outputs": [],
   "source": [
    "#SOURCES\n",
    "#https://www.w3schools.com/tags/ref_urlencode.ASP\n",
    "#https://www.census.gov/content/dam/Census/data/developers/api-user-guide/api-guide.pdf\n",
    "#https://api.census.gov/data/2018/acs/acs5/variables.html\n",
    "#https://api.census.gov/data/2018/acs/acs5/subject/variables.html\n",
    "#https://www.youtube.com/watch?v=Wi0_Mb0e4JM\n",
    "#https://atcoordinates.info/2019/09/24/examples-of-using-the-census-bureaus-api-with-python/\n",
    "#--downloading tigerline from zip -- \n",
    "#http://andrewgaidus.com/Dot_Density_County_Maps/\n",
    "#--Python for reading zip tigerline shpfile --\n",
    "#http://andrewgaidus.com/Reading_Zipped_Shapefiles/\n",
    "#--Aaron's ATP Data Mining Project would also be useful--\n",
    "#https://github.com/AltaPlanning/GIS-notebooks/tree/master/2020-000%20ATP%20Data%20Mining\n",
    "#https://automating-gis-processes.github.io/site/notebooks/L5/interactive-map-folium.html\n",
    "\n",
    "#-- geographies and summary levels --\n",
    "#https://censusreporter.org/topics/geography/\n",
    "#geo_ids=140|04000US06  --> this should be a all tracts in California\n",
    "\n",
    "#There is no great way to use the api to return census tract geometries: the geography api functions \n",
    "#only seem to allow calling a specific geoid. One option would be to loop through geoids and call census reporter\n",
    "#to request geography for each geoid, but that would involve a lot of calls. \n",
    "#https://api.censusreporter.org/1.0/data/show/latest?table_ids=B01001&geo_ids=140|04000US06\n",
    "#error\"You requested 8057 geoids. The maximum is 3500. Please contact us for bulk data.\"\n",
    "\n",
    "\n",
    "\n",
    "# MEDIAN EARNINGS IN THE PAST 12 MONTHS (IN 2018 INFLATION-ADJUSTED DOLLARS) BY MEANS OF TRANSPORTATION TO WORK\n",
    "# Survey/Program: American Community Survey\n",
    "# Universe: Workers 16 years and over with earnings\n",
    "# Year: 2018\n",
    "# Estimates: 1-Year\n",
    "# Table ID: B08121\n",
    "\n"
   ]
  },
  {
   "cell_type": "code",
   "execution_count": null,
   "metadata": {},
   "outputs": [],
   "source": [
    "#Show map\n",
    "m"
   ]
  },
  {
   "cell_type": "code",
   "execution_count": 32,
   "metadata": {},
   "outputs": [],
   "source": [
    "# ### OTHER NOTES\n",
    "#I was a bit confused about obtaining the Census Tiger boundaries. The Tigerweb REST service seemed geared towards\n",
    "#delivering Web Map Service (WMS) map images. We want the spatial data! Hopefully the stack exchange post linked below\n",
    "#clears some of the confusion up.\n",
    "#https://gis.stackexchange.com/questions/269650/how-to-bring-the-tiger-census-reporter-api-to-geopandas\n",
    "#--->I'm not sure if these geometries still exist on the census api. \n",
    "#zipfiles can be downloaded at the ftp site below. I am using blog and aaron's atp data mining python as examples. \n",
    "#For now I am just going to manually unzip census geometry, but a link to a tutorial is included below to automate\n",
    "#download, unzipping, and processing the geometry. \n",
    "\n",
    "#ftp://ftp2.census.gov/geo/tiger/TIGER2018/TRACT/tl_2018_06_tract.zip"
   ]
  }
 ],
 "metadata": {
  "kernelspec": {
   "display_name": "Python 3",
   "language": "python",
   "name": "python3"
  },
  "language_info": {
   "codemirror_mode": {
    "name": "ipython",
    "version": 3
   },
   "file_extension": ".py",
   "mimetype": "text/x-python",
   "name": "python",
   "nbconvert_exporter": "python",
   "pygments_lexer": "ipython3",
   "version": "3.7.6"
  }
 },
 "nbformat": 4,
 "nbformat_minor": 4
}
